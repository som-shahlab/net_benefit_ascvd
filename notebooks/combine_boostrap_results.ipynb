{
 "cells": [
  {
   "cell_type": "code",
   "execution_count": null,
   "id": "crude-listing",
   "metadata": {},
   "outputs": [],
   "source": [
    "import os\n",
    "import pandas as pd\n",
    "from IPython.display import display"
   ]
  },
  {
   "cell_type": "code",
   "execution_count": null,
   "id": "blocked-dallas",
   "metadata": {},
   "outputs": [],
   "source": [
    "pd.set_option('display.max_rows', 100)"
   ]
  },
  {
   "cell_type": "code",
   "execution_count": null,
   "id": "frank-atlantic",
   "metadata": {},
   "outputs": [],
   "source": [
    "data_path_dict = {\n",
    "    'optum': os.path.join(\n",
    "        '/local-scratch/nigam/secure/optum/spfohl/zipcode_cvd/optum/dod', \n",
    "        'experiments',\n",
    "        'ascvd_10yr_optum_dod_selected',\n",
    "    )\n",
    "}"
   ]
  },
  {
   "cell_type": "code",
   "execution_count": null,
   "id": "verbal-darkness",
   "metadata": {},
   "outputs": [],
   "source": [
    "db_key = 'optum'\n",
    "data_path = data_path_dict[db_key]"
   ]
  },
  {
   "cell_type": "code",
   "execution_count": null,
   "id": "circular-cosmetic",
   "metadata": {},
   "outputs": [],
   "source": [
    "result_files = list(filter(lambda x: 'result_df_ci_' in x, os.listdir(data_path)))"
   ]
  },
  {
   "cell_type": "code",
   "execution_count": null,
   "id": "prepared-olive",
   "metadata": {},
   "outputs": [],
   "source": [
    "result_files"
   ]
  },
  {
   "cell_type": "code",
   "execution_count": null,
   "id": "cloudy-potato",
   "metadata": {},
   "outputs": [],
   "source": [
    "result_df_dict = {\n",
    "    key: pd.read_csv(os.path.join(data_path, key))\n",
    "    for key in result_files\n",
    "}\n",
    "for key in result_df_dict.keys():\n",
    "    result_df_dict[key] = (\n",
    "        result_df_dict[key]\n",
    "        .query('tag != \"erm_baseline\"') if 'erm_tuning' not in key else result_df_dict[key]\n",
    "    )\n",
    "    result_df_dict[key] = (\n",
    "        result_df_dict[key]\n",
    "        .query('metric.str.contains(\"net_benefit_rr\")') if 'net_benefit_rr' in key else result_df_dict[key]\n",
    "    )\n",
    "result = pd.concat(result_df_dict).reset_index(drop=True)"
   ]
  },
  {
   "cell_type": "code",
   "execution_count": null,
   "id": "controlled-charger",
   "metadata": {},
   "outputs": [],
   "source": [
    "result_df_name = 'result_df_ci.csv'\n",
    "result.to_csv(os.path.join(data_path, result_df_name), index=False)"
   ]
  },
  {
   "cell_type": "code",
   "execution_count": null,
   "id": "derived-technique",
   "metadata": {
    "scrolled": false
   },
   "outputs": [],
   "source": [
    "result"
   ]
  },
  {
   "cell_type": "code",
   "execution_count": null,
   "id": "pregnant-eclipse",
   "metadata": {
    "scrolled": true
   },
   "outputs": [],
   "source": [
    "for eval_attribute, the_df in result.groupby('eval_attribute'):\n",
    "    print(eval_attribute)\n",
    "    display(the_df.query('metric == \"auc\"'))"
   ]
  },
  {
   "cell_type": "code",
   "execution_count": null,
   "id": "going-recipe",
   "metadata": {
    "scrolled": true
   },
   "outputs": [],
   "source": [
    "for eval_attribute, the_df in result.groupby('eval_attribute'):\n",
    "    print(eval_attribute)\n",
    "    display(the_df.query('metric == \"ace_abs_logistic_logit\"'))"
   ]
  },
  {
   "cell_type": "code",
   "execution_count": null,
   "id": "difficult-messenger",
   "metadata": {
    "scrolled": false
   },
   "outputs": [],
   "source": [
    "for eval_attribute, the_df in result.groupby('eval_attribute'):\n",
    "    print(eval_attribute)\n",
    "    display(the_df.query('metric == \"loss_bce\"'))"
   ]
  },
  {
   "cell_type": "code",
   "execution_count": null,
   "id": "absolute-wales",
   "metadata": {
    "scrolled": false
   },
   "outputs": [],
   "source": [
    "for eval_attribute, the_df in result.groupby('eval_attribute'):\n",
    "    print(eval_attribute)\n",
    "    display(the_df.query('metric == \"net_benefit_rr_0.075\"'))"
   ]
  },
  {
   "cell_type": "code",
   "execution_count": null,
   "id": "brutal-railway",
   "metadata": {
    "scrolled": false
   },
   "outputs": [],
   "source": [
    "for eval_attribute, the_df in result.groupby('eval_attribute'):\n",
    "    print(eval_attribute)\n",
    "    display(the_df.query('metric == \"net_benefit_rr_recalib_0.075\"'))"
   ]
  }
 ],
 "metadata": {
  "kernelspec": {
   "display_name": "Python 3",
   "language": "python",
   "name": "python3"
  },
  "language_info": {
   "codemirror_mode": {
    "name": "ipython",
    "version": 3
   },
   "file_extension": ".py",
   "mimetype": "text/x-python",
   "name": "python",
   "nbconvert_exporter": "python",
   "pygments_lexer": "ipython3",
   "version": "3.9.1"
  }
 },
 "nbformat": 4,
 "nbformat_minor": 5
}
