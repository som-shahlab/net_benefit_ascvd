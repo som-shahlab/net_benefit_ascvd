{
 "cells": [
  {
   "cell_type": "code",
   "execution_count": null,
   "id": "sticky-chemical",
   "metadata": {},
   "outputs": [],
   "source": [
    "import os\n",
    "import pandas as pd"
   ]
  },
  {
   "cell_type": "code",
   "execution_count": null,
   "id": "recent-messenger",
   "metadata": {},
   "outputs": [],
   "source": [
    "figures_data_path = '/local-scratch/nigam/secure/optum/spfohl/zipcode_cvd/optum/dod/experiments/ascvd_10yr_optum_dod_regularized_eo_rr_selected'"
   ]
  },
  {
   "cell_type": "code",
   "execution_count": null,
   "id": "quantitative-platinum",
   "metadata": {},
   "outputs": [],
   "source": [
    "file_names = [\n",
    "    'result_df_ci_race_eth', \n",
    "    'result_df_ci_gender_concept_name', \n",
    "    'result_df_ci_race_eth_gender', \n",
    "    'result_df_ci_performance_race_eth', \n",
    "    'result_df_ci_performance_gender_concept_name', \n",
    "    'result_df_ci_performance_race_eth_gender'\n",
    "]"
   ]
  },
  {
   "cell_type": "code",
   "execution_count": null,
   "id": "alpine-innocent",
   "metadata": {},
   "outputs": [],
   "source": [
    "for file_name in file_names:\n",
    "    df = pd.read_csv(os.path.join(figures_data_path, f'{file_name}.csv'))\n",
    "    df.to_parquet(os.path.join(figures_data_path, f'{file_name}.parquet'), index=False)"
   ]
  }
 ],
 "metadata": {
  "kernelspec": {
   "display_name": "Python 3",
   "language": "python",
   "name": "python3"
  },
  "language_info": {
   "codemirror_mode": {
    "name": "ipython",
    "version": 3
   },
   "file_extension": ".py",
   "mimetype": "text/x-python",
   "name": "python",
   "nbconvert_exporter": "python",
   "pygments_lexer": "ipython3",
   "version": "3.9.1"
  }
 },
 "nbformat": 4,
 "nbformat_minor": 5
}
