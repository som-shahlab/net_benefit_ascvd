{
 "cells": [
  {
   "cell_type": "code",
   "execution_count": null,
   "id": "pressed-retreat",
   "metadata": {},
   "outputs": [],
   "source": [
    "import os\n",
    "import pandas as pd\n",
    "import numpy as np\n",
    "import re\n",
    "import matplotlib.pyplot as plt\n",
    "import statsmodels.api as sm\n",
    "import seaborn as sns\n",
    "from prediction_utils.extraction_utils.database import BQDatabase"
   ]
  },
  {
   "cell_type": "code",
   "execution_count": null,
   "id": "external-mailing",
   "metadata": {},
   "outputs": [],
   "source": [
    "config_dict = {\n",
    "    'gcloud_project': 'som-nero-phi-nigam-optum',\n",
    "    'dataset_project': 'som-rit-starr-prod',\n",
    "    'dataset': 'optum_dod_2019q1_cdm_53',\n",
    "    'cohort_project': 'som-nero-phi-nigam-optum',\n",
    "    'cohort_dataset': 'ascvd_cohort_tables',\n",
    "    'cohort_name': 'ascvd_10yr_optum_dod_2019q1_cdm_53_sampled'\n",
    "}"
   ]
  },
  {
   "cell_type": "code",
   "execution_count": null,
   "id": "other-advantage",
   "metadata": {},
   "outputs": [],
   "source": [
    "db = BQDatabase(gcloud_project=config_dict['gcloud_project'])"
   ]
  },
  {
   "cell_type": "code",
   "execution_count": null,
   "id": "decent-edward",
   "metadata": {},
   "outputs": [],
   "source": [
    "query = \"\"\"\n",
    "    SELECT  * \n",
    "    FROM `ascvd_cohort_tables.ascvd_10yr_optum_dod_2019q1_cdm_53_sampled_pcevar` \n",
    "    WHERE has_statin_history=0 and has_cvd_history=0\n",
    "\"\"\"\n",
    "extracted_cohort = db.read_sql_query(query)"
   ]
  },
  {
   "cell_type": "code",
   "execution_count": null,
   "id": "monetary-individual",
   "metadata": {},
   "outputs": [],
   "source": [
    "extracted_cohort.query('ldl_value_as_number == 0').shape"
   ]
  },
  {
   "cell_type": "code",
   "execution_count": null,
   "id": "adequate-holmes",
   "metadata": {},
   "outputs": [],
   "source": [
    "assert (extracted_cohort.ldl_measurement_date > extracted_cohort.index_date).sum() == 0"
   ]
  },
  {
   "cell_type": "markdown",
   "id": "acquired-aircraft",
   "metadata": {},
   "source": [
    "### Clean up the LDL values\n",
    "    * Consider LDL == 0 as invalid\n",
    "    * Consider LDL < 10 or > 500 mg/dL to be invalid"
   ]
  },
  {
   "cell_type": "code",
   "execution_count": null,
   "id": "artistic-swiss",
   "metadata": {},
   "outputs": [],
   "source": [
    "extracted_cohort.loc[\n",
    "    extracted_cohort['ldl_value_as_number'] == 0,\n",
    "    'ldl_value_as_number'\n",
    "] = np.nan"
   ]
  },
  {
   "cell_type": "code",
   "execution_count": null,
   "id": "animal-geology",
   "metadata": {},
   "outputs": [],
   "source": [
    "extracted_cohort.loc[\n",
    "    (extracted_cohort['ldl_value_as_number'] < 10) | (extracted_cohort['ldl_value_as_number'] > 500), \n",
    "    'ldl_value_as_number'\n",
    "] = np.nan"
   ]
  },
  {
   "cell_type": "code",
   "execution_count": null,
   "id": "million-answer",
   "metadata": {},
   "outputs": [],
   "source": [
    "cohort_ldl = extracted_cohort.query('~ldl_value_as_number.isna()')"
   ]
  },
  {
   "cell_type": "code",
   "execution_count": null,
   "id": "logical-dylan",
   "metadata": {
    "scrolled": true
   },
   "outputs": [],
   "source": [
    "# Note that all LDL units are in mg/dL\n",
    "print(cohort_ldl.groupby('ldl_unit_concept_id').agg('size'))"
   ]
  },
  {
   "cell_type": "code",
   "execution_count": null,
   "id": "lucky-denial",
   "metadata": {
    "scrolled": true
   },
   "outputs": [],
   "source": [
    "cohort_ldl.groupby('ldl_concept_id').agg('size')"
   ]
  },
  {
   "cell_type": "code",
   "execution_count": null,
   "id": "controlling-anime",
   "metadata": {},
   "outputs": [],
   "source": [
    "columns = ['prediction_id', 'person_id', 'index_date', 'ldl_value_as_number', 'ldl_unit_concept_id', 'ldl_concept_id']\n",
    "cohort_ldl.query('ldl_value_as_number > 0').sort_values('ldl_value_as_number')[columns].head(100)"
   ]
  },
  {
   "cell_type": "code",
   "execution_count": null,
   "id": "correct-organizer",
   "metadata": {},
   "outputs": [],
   "source": [
    "# Convert LDL values to mmol/L\n",
    "cohort_ldl = (\n",
    "    cohort_ldl\n",
    "    .assign(ldl_value_as_number=lambda x: x.ldl_value_as_number/38.67)\n",
    ")"
   ]
  },
  {
   "cell_type": "code",
   "execution_count": null,
   "id": "banned-mobility",
   "metadata": {
    "scrolled": false
   },
   "outputs": [],
   "source": [
    "# Plot the LDL values\n",
    "plt.hist(cohort_ldl.ldl_value_as_number.values)"
   ]
  },
  {
   "cell_type": "code",
   "execution_count": null,
   "id": "curious-liabilities",
   "metadata": {},
   "outputs": [],
   "source": [
    "cohort_ldl = cohort_ldl[['prediction_id', 'ldl_value_as_number']]"
   ]
  },
  {
   "cell_type": "markdown",
   "id": "stone-period",
   "metadata": {},
   "source": [
    "#### Read in the set of predictions for the selected ERM models"
   ]
  },
  {
   "cell_type": "code",
   "execution_count": null,
   "id": "numeric-wayne",
   "metadata": {},
   "outputs": [],
   "source": [
    "selected_configs_path = '/local-scratch/nigam/secure/optum/spfohl/zipcode_cvd/optum/dod/experiments/ascvd_10yr_optum_dod_selected/selected_configs.csv'\n"
   ]
  },
  {
   "cell_type": "code",
   "execution_count": null,
   "id": "dominican-ocean",
   "metadata": {},
   "outputs": [],
   "source": [
    "selected_config_df = pd.read_csv(selected_configs_path)"
   ]
  },
  {
   "cell_type": "code",
   "execution_count": null,
   "id": "contained-coalition",
   "metadata": {},
   "outputs": [],
   "source": [
    "selected_config_filenames = selected_config_df.query('tag == \"erm_baseline\"').config_filename.unique()"
   ]
  },
  {
   "cell_type": "code",
   "execution_count": null,
   "id": "collective-economy",
   "metadata": {},
   "outputs": [],
   "source": [
    "output_df_path = '/local-scratch/nigam/secure/optum/spfohl/zipcode_cvd/optum/dod/experiments/ascvd_10yr_optum_dod_erm_tuning/performance/'"
   ]
  },
  {
   "cell_type": "code",
   "execution_count": null,
   "id": "commercial-jenny",
   "metadata": {},
   "outputs": [],
   "source": [
    "output_df_dict = {\n",
    "    config_filename: pd.read_parquet(os.path.join(output_df_path, config_filename, 'output_df.parquet'))\n",
    "    for config_filename in selected_config_filenames\n",
    "}"
   ]
  },
  {
   "cell_type": "code",
   "execution_count": null,
   "id": "acting-survivor",
   "metadata": {},
   "outputs": [],
   "source": [
    "output_df = pd.concat(output_df_dict)"
   ]
  },
  {
   "cell_type": "code",
   "execution_count": null,
   "id": "premier-replication",
   "metadata": {},
   "outputs": [],
   "source": [
    "output_df = output_df.reset_index(level=-1, drop=True).rename_axis('config_filename').reset_index()"
   ]
  },
  {
   "cell_type": "code",
   "execution_count": null,
   "id": "exclusive-biography",
   "metadata": {},
   "outputs": [],
   "source": [
    "output_df"
   ]
  },
  {
   "cell_type": "code",
   "execution_count": null,
   "id": "discrete-region",
   "metadata": {},
   "outputs": [],
   "source": [
    "# Take the mean prediction over training replicates\n",
    "result = output_df.query('phase == \"test\"').groupby(['row_id'])[['weights', 'pred_probs']].agg('mean').reset_index()"
   ]
  },
  {
   "cell_type": "code",
   "execution_count": null,
   "id": "marked-projector",
   "metadata": {},
   "outputs": [],
   "source": [
    "# Read the cohort metadata in\n",
    "cohort_path = '/local-scratch/nigam/secure/optum/spfohl/zipcode_cvd/optum/dod/cohort/cohort_fold_1_5_ipcw.parquet'\n",
    "cohort_df = pd.read_parquet(cohort_path)"
   ]
  },
  {
   "cell_type": "code",
   "execution_count": null,
   "id": "proof-tomorrow",
   "metadata": {},
   "outputs": [],
   "source": [
    "cohort_df.query('~ascvd_binary.isnull() & phase == \"test\"')"
   ]
  },
  {
   "cell_type": "code",
   "execution_count": null,
   "id": "assumed-thermal",
   "metadata": {},
   "outputs": [],
   "source": [
    "cohort_df = cohort_df.merge(result).merge(cohort_ldl)"
   ]
  },
  {
   "cell_type": "code",
   "execution_count": null,
   "id": "accompanied-equivalent",
   "metadata": {},
   "outputs": [],
   "source": [
    "cohort_df"
   ]
  },
  {
   "cell_type": "code",
   "execution_count": null,
   "id": "planned-standing",
   "metadata": {},
   "outputs": [],
   "source": [
    "# Fit an unweighted LR model\n",
    "x = np.log(cohort_df.pred_probs.values)\n",
    "x = sm.add_constant(x)\n",
    "y = cohort_df.ldl_value_as_number.values\n",
    "model = sm.OLS(y, x)\n",
    "model_result=model.fit()\n",
    "model_result.summary()"
   ]
  },
  {
   "cell_type": "code",
   "execution_count": null,
   "id": "ideal-personal",
   "metadata": {},
   "outputs": [],
   "source": [
    "# Fit a weighted LR model\n",
    "x = np.log(cohort_df.pred_probs.values)\n",
    "x = sm.add_constant(x)\n",
    "y = cohort_df.ldl_value_as_number.values\n",
    "model = sm.WLS(y, x, weights = cohort_df.weights.values)\n",
    "model_result=model.fit()\n",
    "model_result.summary()"
   ]
  },
  {
   "cell_type": "code",
   "execution_count": null,
   "id": "metropolitan-pattern",
   "metadata": {},
   "outputs": [],
   "source": [
    "reg_x = np.linspace(0.001, 0.4)\n",
    "reg_y = np.log(reg_x)*model_result.params[-1] + model_result.params[0]"
   ]
  },
  {
   "cell_type": "code",
   "execution_count": null,
   "id": "arranged-dining",
   "metadata": {},
   "outputs": [],
   "source": [
    "plt.scatter(cohort_df.pred_probs, cohort_df.ldl_value_as_number)\n",
    "plt.plot(reg_x, reg_y, lw=2, color='r')\n",
    "plt.xlabel('Predicted 10-year ASCVD risk')\n",
    "plt.ylabel('LDL (mmol/L)')"
   ]
  },
  {
   "cell_type": "code",
   "execution_count": null,
   "id": "piano-cambodia",
   "metadata": {},
   "outputs": [],
   "source": [
    "## Assume a constant model\n",
    "ldl_mean = np.average(cohort_df.ldl_value_as_number, weights=cohort_df.ipcw_weight)"
   ]
  },
  {
   "cell_type": "code",
   "execution_count": null,
   "id": "british-progress",
   "metadata": {},
   "outputs": [],
   "source": [
    "ldl_mean_group = cohort_df.groupby(['race_eth']).apply(lambda x: np.average(x.ldl_value_as_number, weights=x.ipcw_weight))\n",
    "ldl_mean_group"
   ]
  },
  {
   "cell_type": "code",
   "execution_count": null,
   "id": "explicit-stationery",
   "metadata": {},
   "outputs": [],
   "source": [
    "figure_path = '../zipcode_cvd/experiments/figures/optum/'"
   ]
  },
  {
   "cell_type": "code",
   "execution_count": null,
   "id": "psychological-russell",
   "metadata": {},
   "outputs": [],
   "source": [
    "plt.scatter(cohort_df.pred_probs, cohort_df.ldl_value_as_number, s=5, color='#4daf4a')\n",
    "plt.axhline(ldl_mean, lw=3, color='#e41a1c', label='Constant')\n",
    "plt.plot(reg_x, reg_y, lw=3, color='#377eb8', label=r'OLS ($R^2=0.004$)')\n",
    "plt.xlabel('Predicted 10-year ASCVD risk', fontsize=14)\n",
    "plt.ylabel('LDL-C (mmol/L)', fontsize=14)\n",
    "plt.legend()\n",
    "sns.despine()\n",
    "# plt.savefig(os.path.join(figure_path, 'ldl_scatter.png'), dpi=180, bbox_inches='tight')\n",
    "# plt.savefig(os.path.join(figure_path, 'ldl_scatter.pdf'), bbox_inches='tight')"
   ]
  },
  {
   "cell_type": "markdown",
   "id": "sporting-diagnosis",
   "metadata": {},
   "source": [
    "### Model for risk reduction, following Soran et al\n",
    "    * Soran, H., Schofield, J. D., & Durrington, P. N. (2015). Cholesterol, not just cardiovascular risk, is important in deciding who should receive statin treatment. European Heart Journal, 36(43), 2975–2983. https://doi.org/10.1093/EURHEARTJ/EHV340"
   ]
  },
  {
   "cell_type": "code",
   "execution_count": null,
   "id": "stuck-respondent",
   "metadata": {
    "scrolled": true
   },
   "outputs": [],
   "source": [
    "ldl_rr = 0.43\n",
    "ldl_abs_reduction = ldl_rr*ldl_mean\n",
    "cvd_rr = (1-0.78**(ldl_rr*ldl_mean))\n",
    "print(f'Relative risk reduction: {cvd_rr}')"
   ]
  },
  {
   "cell_type": "code",
   "execution_count": null,
   "id": "green-farmer",
   "metadata": {},
   "outputs": [],
   "source": [
    "ldl_rr = 0.43\n",
    "ldl_abs_reduction = ldl_rr*ldl_mean_group\n",
    "cvd_rr = (1-0.78**(ldl_rr*ldl_mean_group))\n",
    "cvd_rr\n",
    "# print(f'Relative risk reduction: {cvd_rr}')"
   ]
  }
 ],
 "metadata": {
  "kernelspec": {
   "display_name": "Python 3",
   "language": "python",
   "name": "python3"
  },
  "language_info": {
   "codemirror_mode": {
    "name": "ipython",
    "version": 3
   },
   "file_extension": ".py",
   "mimetype": "text/x-python",
   "name": "python",
   "nbconvert_exporter": "python",
   "pygments_lexer": "ipython3",
   "version": "3.9.1"
  }
 },
 "nbformat": 4,
 "nbformat_minor": 5
}
