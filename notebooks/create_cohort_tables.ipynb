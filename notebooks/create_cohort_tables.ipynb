{
 "cells": [
  {
   "cell_type": "code",
   "execution_count": null,
   "id": "demanding-architecture",
   "metadata": {},
   "outputs": [],
   "source": [
    "import numpy as np\n",
    "import pandas as pd\n",
    "import os\n",
    "import re\n",
    "from prediction_utils.pytorch_utils.metrics import StandardEvaluator\n",
    "\n",
    "import matplotlib.pyplot as plt\n",
    "import seaborn as sns"
   ]
  },
  {
   "cell_type": "code",
   "execution_count": null,
   "id": "built-thanks",
   "metadata": {},
   "outputs": [],
   "source": [
    "result_path = os.path.join(\"../zipcode_cvd/experiments/tables\", \"cohort_tables\")\n",
    "os.makedirs(result_path, exist_ok=True)"
   ]
  },
  {
   "cell_type": "markdown",
   "id": "available-bobby",
   "metadata": {},
   "source": [
    "### ASCVD Cohort Tables\n",
    "\n",
    "Variables to compute\n",
    "    \n",
    "    * Total counts\n",
    "    * Uncensored frac\n",
    "    * Incidence of outcome in uncensored population"
   ]
  },
  {
   "cell_type": "code",
   "execution_count": null,
   "id": "potential-numbers",
   "metadata": {},
   "outputs": [],
   "source": [
    "db_key = 'optum'"
   ]
  },
  {
   "cell_type": "code",
   "execution_count": null,
   "id": "ethical-trader",
   "metadata": {},
   "outputs": [],
   "source": [
    "data_paths = {\n",
    "    \"optum\": \"/local-scratch/nigam/secure/optum/spfohl/zipcode_cvd/optum/dod\"\n",
    "}\n",
    "\n",
    "cohort_filename='cohort_fold_1_5_ipcw.parquet'\n",
    "\n",
    "cohort_paths = {\n",
    "    key: os.path.join(value, \"cohort\", cohort_filename)\n",
    "    for key, value in data_paths.items()\n",
    "}\n",
    "attributes = [\n",
    "    \"age_group\", \"gender_concept_name\", \"race_eth\", \"race_eth_gender\",  \n",
    "    \"has_diabetes_type2_history\", \"has_diabetes_type1_history\",\n",
    "    \"has_ra_history\",  \"has_ckd_history\"\n",
    "]\n",
    "tasks = [\"ascvd_binary\"]"
   ]
  },
  {
   "cell_type": "code",
   "execution_count": null,
   "id": "eastern-yacht",
   "metadata": {},
   "outputs": [],
   "source": [
    "cohort = pd.read_parquet(cohort_paths[db_key])"
   ]
  },
  {
   "cell_type": "code",
   "execution_count": null,
   "id": "center-ceramic",
   "metadata": {},
   "outputs": [],
   "source": [
    "cohort = cohort.assign(\n",
    "    ipcw_weight_clip_100=lambda x: np.minimum(x.ipcw_weight, 100),\n",
    "    ipcw_weight_clip_20=lambda x: np.minimum(x.ipcw_weight, 20)\n",
    ")"
   ]
  },
  {
   "cell_type": "code",
   "execution_count": null,
   "id": "reverse-pilot",
   "metadata": {
    "scrolled": true
   },
   "outputs": [],
   "source": [
    "cohort.groupby(['ascvd_binary', 'sampled']).agg(ipcw_weight=('ipcw_weight', 'mean'))"
   ]
  },
  {
   "cell_type": "code",
   "execution_count": null,
   "id": "weekly-converter",
   "metadata": {},
   "outputs": [],
   "source": [
    "cohort_df_long = cohort.melt(\n",
    "    id_vars=[\"person_id\", \"ascvd_binary\", \"censored_binary\", \"ipcw_weight\", \"ipcw_weight_clip_100\", \"ipcw_weight_clip_20\", \"fold_id\"],\n",
    "    value_vars=attributes,\n",
    "    var_name=\"attribute\",\n",
    "    value_name=\"group\",\n",
    ")"
   ]
  },
  {
   "cell_type": "code",
   "execution_count": null,
   "id": "brief-mirror",
   "metadata": {
    "scrolled": true
   },
   "outputs": [],
   "source": [
    "evaluator = StandardEvaluator(metrics=[\"outcome_rate\"])\n",
    "evaluator.evaluate(\n",
    "    df=cohort_df_long.assign(pred_probs=1).query(\n",
    "        '~ascvd_binary.isnull() & fold_id == \"test\"'\n",
    "    ),\n",
    "    strata_vars=[\"attribute\", \"group\", \"fold_id\"],\n",
    "    label_var=\"ascvd_binary\",\n",
    ")\n",
    "evaluator = StandardEvaluator(metrics=[\"outcome_rate\"])\n",
    "evaluator.evaluate(\n",
    "    df=cohort_df_long.assign(pred_probs=1).query(\n",
    "        '~ascvd_binary.isnull() & fold_id == \"test\"'\n",
    "    ),\n",
    "    strata_vars=[\"attribute\", \"group\", \"fold_id\"],\n",
    "    label_var=\"ascvd_binary\",\n",
    "    weight_var=\"ipcw_weight\",\n",
    ")"
   ]
  },
  {
   "cell_type": "code",
   "execution_count": null,
   "id": "domestic-laser",
   "metadata": {},
   "outputs": [],
   "source": [
    "uncensored_statistics_df = (\n",
    "    cohort_df_long.query(\"~ascvd_binary.isnull() and fold_id == 'eval'\")\n",
    "    .groupby([\"attribute\", \"group\"])\n",
    "    .apply(\n",
    "        lambda x: pd.DataFrame(\n",
    "            {\n",
    "                \"incidence\": np.average(x.ascvd_binary),\n",
    "                \"incidence_adjusted\": np.average(x.ascvd_binary, weights=x.ipcw_weight),\n",
    "                \"incidence_adjusted_clip_20\": np.average(x.ascvd_binary, weights=x.ipcw_weight_clip_20),\n",
    "                \"incidence_adjusted_clip_100\": np.average(x.ascvd_binary, weights=x.ipcw_weight_clip_100),\n",
    "            },\n",
    "            index=[x.name],\n",
    "        ),\n",
    "    )\n",
    "    .reset_index(level=-1, drop=True)\n",
    "    .reset_index()\n",
    ")\n",
    "uncensored_statistics_df"
   ]
  },
  {
   "cell_type": "code",
   "execution_count": null,
   "id": "substantial-poland",
   "metadata": {},
   "outputs": [],
   "source": [
    "cohort_statistics_df_temp = (\n",
    "    cohort_df_long.groupby([\"attribute\", \"group\"])\n",
    "    .agg(\n",
    "        censoring_rate=(\"censored_binary\", \"mean\"),\n",
    "        Count=(\"censored_binary\", lambda x: x.shape[0]),\n",
    "    )\n",
    "    .reset_index()\n",
    ")\n",
    "cohort_statistics_df_temp"
   ]
  },
  {
   "cell_type": "code",
   "execution_count": null,
   "id": "collaborative-easter",
   "metadata": {},
   "outputs": [],
   "source": [
    "group_label_dict = {\n",
    "    \"Black or African American\": \"Black\",\n",
    "    \"Hispanic or Latino\": \"Hispanic\",\n",
    "    \"FEMALE\": \"Female\",\n",
    "    \"MALE\": \"Male\",\n",
    "    \"Asian | FEMALE\": \"Asian, female\",\n",
    "    \"Asian | MALE\": \"Asian, male\",\n",
    "    \"Black or African American | FEMALE\": \"Black, female\",\n",
    "    \"Black or African American | MALE\": \"Black, male\",\n",
    "    \"Hispanic or Latino | FEMALE\": \"Hispanic, female\",\n",
    "    \"Hispanic or Latino | MALE\": \"Hispanic, male\",\n",
    "    \"Other | FEMALE\": \"Other, female\",\n",
    "    \"Other | MALE\": \"Other, male\",\n",
    "    \"White | FEMALE\": \"White, female\",\n",
    "    \"White | MALE\": \"White, male\",\n",
    "    'ra_absent': 'RA absent',\n",
    "    'ra_present': 'RA present',\n",
    "    'ckd_absent': 'CKD absent',\n",
    "    'ckd_present': 'CKD present',\n",
    "    'diabetes_type1_absent': 'Type 1 diabetes absent',\n",
    "    'diabetes_type1_present': 'Type 1 diabetes present',\n",
    "    'diabetes_type2_absent': 'Type 2 diabetes absent',\n",
    "    'diabetes_type2_present': 'Type 2 diabetes present'\n",
    "}"
   ]
  },
  {
   "cell_type": "code",
   "execution_count": null,
   "id": "comprehensive-fifth",
   "metadata": {},
   "outputs": [],
   "source": [
    "cohort_statistics_df = cohort_statistics_df_temp.merge(uncensored_statistics_df)\n",
    "cohort_statistics_df = (\n",
    "    cohort_statistics_df.set_index([\"attribute\", \"group\"])\n",
    "#     .reindex(columns=[\"Count\", \"censoring_rate\", \"incidence\", \"incidence_adjusted\"])\n",
    "    .reindex(columns=[\"Count\", \"censoring_rate\", \"incidence_adjusted\"])\n",
    "    .reindex(axis='index', level=0, labels=attributes)\n",
    "    .reset_index(level=\"attribute\", drop=True)\n",
    "    .rename(\n",
    "        columns={\n",
    "            \"size\": \"Count\",\n",
    "            \"censoring_rate\": \"Censoring rate\",\n",
    "#             \"incidence\": \"Incidence (unadjusted)\",\n",
    "            \"incidence_adjusted\": \"Incidence\",\n",
    "        },\n",
    "        index=group_label_dict\n",
    "    )\n",
    "    .assign(Count=lambda x: x.Count.apply(\"{:,}\".format))\n",
    ")\n",
    "cohort_statistics_df"
   ]
  },
  {
   "cell_type": "code",
   "execution_count": null,
   "id": "binary-server",
   "metadata": {},
   "outputs": [],
   "source": [
    "cohort = pd.read_parquet(os.path.join(cohort_paths[db_key]))\n",
    "\n",
    "cohort_df_long = cohort.melt(\n",
    "    id_vars=[\n",
    "        \"person_id\",\n",
    "        \"ascvd_binary\",\n",
    "        \"censored_binary\",\n",
    "        \"ipcw_weight\",\n",
    "        \"fold_id\",\n",
    "    ],\n",
    "    value_vars=attributes,\n",
    "    var_name=\"attribute\",\n",
    "    value_name=\"group\",\n",
    ")\n",
    "\n",
    "uncensored_statistics_df = (\n",
    "    cohort_df_long.query('~ascvd_binary.isnull() & fold_id == \"test\"')\n",
    "    .groupby([\"attribute\", \"group\"])\n",
    "    .apply(\n",
    "        lambda x: pd.DataFrame(\n",
    "            {\n",
    "#                 \"incidence\": np.average(x.ascvd_binary),\n",
    "                \"incidence_adjusted\": np.average(\n",
    "                    x.ascvd_binary, weights=x.ipcw_weight\n",
    "                ),\n",
    "            },\n",
    "            index=[x.name],\n",
    "        ),\n",
    "    )\n",
    "    .reset_index(level=-1, drop=True)\n",
    "    .reset_index()\n",
    ")\n",
    "\n",
    "cohort_statistics_df = (\n",
    "    cohort_df_long.groupby([\"attribute\", \"group\"])\n",
    "    .agg(\n",
    "        censoring_rate=(\"censored_binary\", \"mean\"),\n",
    "        Count=(\"censored_binary\", lambda x: x.shape[0]),\n",
    "    )\n",
    "    .reset_index()\n",
    ")\n",
    "\n",
    "cohort_statistics_df = cohort_statistics_df.merge(uncensored_statistics_df)\n",
    "cohort_statistics_df = (\n",
    "    cohort_statistics_df.set_index([\"attribute\", \"group\"])\n",
    "#     .reindex(columns=[\"Count\", \"censoring_rate\", \"incidence\", \"incidence_adjusted\"])\n",
    "    .reindex(columns=[\"Count\", \"censoring_rate\", \"incidence_adjusted\"])\n",
    "    .reindex(axis='index', level=0, labels=attributes)\n",
    "    .reset_index(level=\"attribute\", drop=True)\n",
    "    .rename(\n",
    "        columns={\n",
    "            \"size\": \"Count\",\n",
    "            \"censoring_rate\": \"Censoring rate\",\n",
    "#             \"incidence\": \"Incidence (unadjusted)\",\n",
    "            \"incidence_adjusted\": \"Incidence\",\n",
    "        },\n",
    "        index=group_label_dict\n",
    "    )\n",
    "    .assign(Count=lambda x: x.Count.apply(\"{:,}\".format))\n",
    ")\n",
    "\n",
    "table_str = cohort_statistics_df.to_latex(\n",
    "    buf=None,\n",
    "    float_format=\"%.3g\",\n",
    "    index_names=False,\n",
    "    index=True,\n",
    "    label=f\"tab:cohort_{db_key}\",\n",
    "    position=\"!t\",\n",
    "    caption=\"A caption\",\n",
    ").replace(\"toprule\\n{}\", \"toprule\\n Group\")\n",
    "\n",
    "if isinstance(table_str, tuple):\n",
    "    table_str = table_str[0]\n",
    "\n",
    "table_str = re.sub(pattern=\"\\[(?=\\d)\", repl=r\"\\\\lbrack\", string=table_str)\n",
    "\n",
    "with open(os.path.join(result_path, f\"{db_key}.txt\"), \"w\") as fp:\n",
    "    fp.write(table_str)"
   ]
  }
 ],
 "metadata": {
  "kernelspec": {
   "display_name": "Python 3",
   "language": "python",
   "name": "python3"
  },
  "language_info": {
   "codemirror_mode": {
    "name": "ipython",
    "version": 3
   },
   "file_extension": ".py",
   "mimetype": "text/x-python",
   "name": "python",
   "nbconvert_exporter": "python",
   "pygments_lexer": "ipython3",
   "version": "3.9.1"
  }
 },
 "nbformat": 4,
 "nbformat_minor": 5
}
